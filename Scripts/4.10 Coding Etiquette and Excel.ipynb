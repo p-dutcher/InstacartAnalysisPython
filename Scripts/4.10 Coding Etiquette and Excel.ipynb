{
 "cells": [
  {
   "cell_type": "markdown",
   "id": "4c5b55e1-8f69-4109-8ee3-4ae4c8b48fdd",
   "metadata": {},
   "source": [
    "## 01. Import Libraries"
   ]
  },
  {
   "cell_type": "code",
   "execution_count": 1,
   "id": "81aa762d-0660-4429-8be2-5123627b5d50",
   "metadata": {},
   "outputs": [],
   "source": [
    "# Import Libraries\n",
    "import pandas as pd\n",
    "import numpy as np\n",
    "import os\n",
    "import matplotlib.pyplot as plt\n",
    "import seaborn as sns\n",
    "import scipy"
   ]
  },
  {
   "cell_type": "markdown",
   "id": "4c33e6a5-ac02-404a-aa65-390b73037321",
   "metadata": {},
   "source": [
    "## 02. Import Data"
   ]
  },
  {
   "cell_type": "code",
   "execution_count": 2,
   "id": "63a3c12f-a8df-4e9f-9587-dca027fa2484",
   "metadata": {},
   "outputs": [],
   "source": [
    "# define path:\n",
    "\n",
    "path = r'/Users/piperdutcher/Documents/Achievement 4/04-2024 Instacart Basket Analysis'"
   ]
  },
  {
   "cell_type": "code",
   "execution_count": 3,
   "id": "ae9ca1c1-0b20-40b5-aa2c-288c75d91b64",
   "metadata": {},
   "outputs": [],
   "source": [
    "# Import Data Set - Complete Data:\n",
    "df_comp = pd.read_pickle(os.path.join(path, '02 Data', 'Prepared Data', 'combined_customer_order_product_data.pkl'))"
   ]
  },
  {
   "cell_type": "code",
   "execution_count": 6,
   "id": "b5956e59-7fb9-4d12-a3e2-b0a739cf2219",
   "metadata": {},
   "outputs": [],
   "source": [
    "# import data - departments\n",
    "# departments = pd.read_csv(os.path.join(path, '02 Data','Prepared Data', 'final_departments_wrangled.csv'), index_col = False)"
   ]
  },
  {
   "cell_type": "code",
   "execution_count": 7,
   "id": "dc7274d0-69e5-4bb6-b014-7bb5bada0914",
   "metadata": {},
   "outputs": [],
   "source": [
    "# more data if needed"
   ]
  },
  {
   "cell_type": "markdown",
   "id": "06aee66e-2b7d-4668-a976-801e98b2f449",
   "metadata": {},
   "source": [
    "## 03. Reading Tasks"
   ]
  },
  {
   "cell_type": "code",
   "execution_count": 8,
   "id": "029f3fcc-1c99-431a-b00c-46af6021d803",
   "metadata": {},
   "outputs": [],
   "source": [
    "# utilizing crosstabs (for exporting python to excel)\n",
    "\n",
    "crosstab = pd.crosstab(df_comp['days_since_prior_order'], df_comp['order_number'], dropna = False)"
   ]
  },
  {
   "cell_type": "code",
   "execution_count": 9,
   "id": "25d727da-afd4-4683-8781-fc9c30cbf328",
   "metadata": {},
   "outputs": [],
   "source": [
    "crosstab.to_clipboard()"
   ]
  },
  {
   "cell_type": "code",
   "execution_count": null,
   "id": "0ae3c2af-980d-41d6-8b9f-c876d411ec92",
   "metadata": {},
   "outputs": [],
   "source": []
  }
 ],
 "metadata": {
  "kernelspec": {
   "display_name": "Python 3 (ipykernel)",
   "language": "python",
   "name": "python3"
  },
  "language_info": {
   "codemirror_mode": {
    "name": "ipython",
    "version": 3
   },
   "file_extension": ".py",
   "mimetype": "text/x-python",
   "name": "python",
   "nbconvert_exporter": "python",
   "pygments_lexer": "ipython3",
   "version": "3.11.7"
  }
 },
 "nbformat": 4,
 "nbformat_minor": 5
}
