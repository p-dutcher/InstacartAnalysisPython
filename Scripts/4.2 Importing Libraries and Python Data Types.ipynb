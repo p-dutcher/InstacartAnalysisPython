{
 "cells": [
  {
   "cell_type": "markdown",
   "id": "9fbe2cd8-31cc-47bc-82c4-ebee56259725",
   "metadata": {
    "jp-MarkdownHeadingCollapsed": true
   },
   "source": [
    "# 01. Importing Libraries"
   ]
  },
  {
   "cell_type": "markdown",
   "id": "1e1a2a50-8f0a-48c0-80dc-32eb6ea02143",
   "metadata": {
    "jp-MarkdownHeadingCollapsed": true
   },
   "source": [
    "# Import Libraries\n",
    "import pandas as pd\n",
    "import numpy as np\n",
    "import os"
   ]
  },
  {
   "cell_type": "markdown",
   "id": "54f3d701-3ca6-4f71-b73e-c3256b700f05",
   "metadata": {},
   "source": [
    "# 02. Data Types"
   ]
  },
  {
   "cell_type": "markdown",
   "id": "aefd5729-bf3b-4ba4-a878-6f357309abc1",
   "metadata": {},
   "source": [
    "# Practice with Reading Material"
   ]
  },
  {
   "cell_type": "code",
   "execution_count": 2,
   "id": "95ded5ee-a2a1-4964-99a5-885876d0d230",
   "metadata": {},
   "outputs": [],
   "source": [
    "x = 2"
   ]
  },
  {
   "cell_type": "code",
   "execution_count": 4,
   "id": "765112a3-73e7-4624-9664-d674e4349b5e",
   "metadata": {},
   "outputs": [
    {
     "data": {
      "text/plain": [
       "2"
      ]
     },
     "execution_count": 4,
     "metadata": {},
     "output_type": "execute_result"
    }
   ],
   "source": [
    "x"
   ]
  },
  {
   "cell_type": "code",
   "execution_count": 3,
   "id": "c406f88c-8ffb-4e6b-a54a-385cbfa897b1",
   "metadata": {},
   "outputs": [
    {
     "name": "stdout",
     "output_type": "stream",
     "text": [
      "2\n"
     ]
    }
   ],
   "source": [
    "print(x)"
   ]
  },
  {
   "cell_type": "code",
   "execution_count": 5,
   "id": "75e985fd-92e7-49f9-bc5f-80ef52131b46",
   "metadata": {},
   "outputs": [
    {
     "data": {
      "text/plain": [
       "int"
      ]
     },
     "execution_count": 5,
     "metadata": {},
     "output_type": "execute_result"
    }
   ],
   "source": [
    "type(x)"
   ]
  },
  {
   "cell_type": "code",
   "execution_count": 6,
   "id": "2161f877-a320-4244-834f-05c93b19534a",
   "metadata": {},
   "outputs": [],
   "source": [
    "y = 5.678"
   ]
  },
  {
   "cell_type": "code",
   "execution_count": 7,
   "id": "47a28246-8a68-4c70-9ca9-aeaac308c0c7",
   "metadata": {},
   "outputs": [
    {
     "data": {
      "text/plain": [
       "float"
      ]
     },
     "execution_count": 7,
     "metadata": {},
     "output_type": "execute_result"
    }
   ],
   "source": [
    "type(y)"
   ]
  },
  {
   "cell_type": "code",
   "execution_count": 9,
   "id": "2e2984ea-dc3b-43bb-acbf-05183762355b",
   "metadata": {},
   "outputs": [],
   "source": [
    "z = 'Brazil'"
   ]
  },
  {
   "cell_type": "code",
   "execution_count": 10,
   "id": "10790237-548d-46b1-94d1-6664fb322664",
   "metadata": {},
   "outputs": [
    {
     "data": {
      "text/plain": [
       "str"
      ]
     },
     "execution_count": 10,
     "metadata": {},
     "output_type": "execute_result"
    }
   ],
   "source": [
    "type(z)"
   ]
  },
  {
   "cell_type": "code",
   "execution_count": 11,
   "id": "dcfbce70-ddeb-4feb-be65-0136bbfb8f50",
   "metadata": {},
   "outputs": [
    {
     "data": {
      "text/plain": [
       "str"
      ]
     },
     "execution_count": 11,
     "metadata": {},
     "output_type": "execute_result"
    }
   ],
   "source": [
    "type('Mania')"
   ]
  },
  {
   "cell_type": "code",
   "execution_count": 12,
   "id": "bb723f33-4966-4f4f-a74a-57208099592f",
   "metadata": {},
   "outputs": [
    {
     "data": {
      "text/plain": [
       "bool"
      ]
     },
     "execution_count": 12,
     "metadata": {},
     "output_type": "execute_result"
    }
   ],
   "source": [
    "type(True)"
   ]
  },
  {
   "cell_type": "code",
   "execution_count": 13,
   "id": "6fa19a97-380a-4678-8f5a-b823d6e500c9",
   "metadata": {},
   "outputs": [
    {
     "data": {
      "text/plain": [
       "bool"
      ]
     },
     "execution_count": 13,
     "metadata": {},
     "output_type": "execute_result"
    }
   ],
   "source": [
    "type(False)"
   ]
  },
  {
   "cell_type": "code",
   "execution_count": 14,
   "id": "dd235fb6-ed17-42f6-88c6-97fdbfa558ea",
   "metadata": {},
   "outputs": [
    {
     "name": "stdout",
     "output_type": "stream",
     "text": [
      "2\n"
     ]
    }
   ],
   "source": [
    "print(x)"
   ]
  },
  {
   "cell_type": "code",
   "execution_count": 15,
   "id": "ee0e2991-0576-421b-b269-dc90d2b9d597",
   "metadata": {},
   "outputs": [
    {
     "data": {
      "text/plain": [
       "6"
      ]
     },
     "execution_count": 15,
     "metadata": {},
     "output_type": "execute_result"
    }
   ],
   "source": [
    "x + 4"
   ]
  },
  {
   "cell_type": "code",
   "execution_count": 16,
   "id": "735c106d-c985-4dde-8871-f5fc007aa95f",
   "metadata": {},
   "outputs": [
    {
     "data": {
      "text/plain": [
       "7.678"
      ]
     },
     "execution_count": 16,
     "metadata": {},
     "output_type": "execute_result"
    }
   ],
   "source": [
    "x +y "
   ]
  },
  {
   "cell_type": "code",
   "execution_count": 22,
   "id": "9018c14d-c11c-4366-b410-0da7e6b6151b",
   "metadata": {},
   "outputs": [],
   "source": [
    "x = x + 4"
   ]
  },
  {
   "cell_type": "code",
   "execution_count": 23,
   "id": "9a8e5b9d-ec10-4780-bad8-dceeecb1f801",
   "metadata": {},
   "outputs": [
    {
     "name": "stdout",
     "output_type": "stream",
     "text": [
      "6\n"
     ]
    }
   ],
   "source": [
    "print(x)"
   ]
  },
  {
   "cell_type": "code",
   "execution_count": 24,
   "id": "85207fc4-21cd-4cbc-bc22-dc1cb06d6ed7",
   "metadata": {},
   "outputs": [],
   "source": [
    "a = 'Hello, '"
   ]
  },
  {
   "cell_type": "code",
   "execution_count": 25,
   "id": "98cdf925-e846-43ed-a76e-5694cfede77a",
   "metadata": {},
   "outputs": [],
   "source": [
    "b = 'Marley'"
   ]
  },
  {
   "cell_type": "code",
   "execution_count": 26,
   "id": "662ef2f5-a54c-4f23-9b17-998b62717eda",
   "metadata": {},
   "outputs": [
    {
     "data": {
      "text/plain": [
       "'Hello, Marley'"
      ]
     },
     "execution_count": 26,
     "metadata": {},
     "output_type": "execute_result"
    }
   ],
   "source": [
    "a + b"
   ]
  },
  {
   "cell_type": "code",
   "execution_count": 27,
   "id": "daba7cbf-4a63-465d-aa89-a9ab20940b5b",
   "metadata": {},
   "outputs": [],
   "source": [
    "n = 'potato'"
   ]
  },
  {
   "cell_type": "code",
   "execution_count": 28,
   "id": "613009e3-508d-4507-8e01-5530b04bc707",
   "metadata": {},
   "outputs": [
    {
     "data": {
      "text/plain": [
       "'potatopotatopotatopotatopotatopotatopotatopotatopotatopotatopotatopotato'"
      ]
     },
     "execution_count": 28,
     "metadata": {},
     "output_type": "execute_result"
    }
   ],
   "source": [
    "n * 12"
   ]
  },
  {
   "cell_type": "code",
   "execution_count": 29,
   "id": "2a4dadb3-f9ce-466f-b02a-e966fc8335f3",
   "metadata": {},
   "outputs": [
    {
     "data": {
      "text/plain": [
       "False"
      ]
     },
     "execution_count": 29,
     "metadata": {},
     "output_type": "execute_result"
    }
   ],
   "source": [
    "x == y"
   ]
  },
  {
   "cell_type": "code",
   "execution_count": 30,
   "id": "e1747e33-c24c-4871-bf21-a2c9a8be7700",
   "metadata": {},
   "outputs": [
    {
     "data": {
      "text/plain": [
       "bool"
      ]
     },
     "execution_count": 30,
     "metadata": {},
     "output_type": "execute_result"
    }
   ],
   "source": [
    "type(x==y)"
   ]
  },
  {
   "cell_type": "markdown",
   "id": "db2da39e-279e-418c-8c4c-ac00e60be182",
   "metadata": {},
   "source": [
    "## 03. Exercise 4.2"
   ]
  },
  {
   "cell_type": "code",
   "execution_count": 31,
   "id": "26b1d977-16f9-4e30-855b-8f8d6583845a",
   "metadata": {},
   "outputs": [
    {
     "name": "stdout",
     "output_type": "stream",
     "text": [
      "100\n"
     ]
    }
   ],
   "source": [
    "a = 98\n",
    "b = 2\n",
    "print(a+b)"
   ]
  },
  {
   "cell_type": "code",
   "execution_count": 32,
   "id": "0937a450-6caa-45e1-ae86-174645c87906",
   "metadata": {},
   "outputs": [
    {
     "name": "stdout",
     "output_type": "stream",
     "text": [
      "100\n"
     ]
    }
   ],
   "source": [
    "c = 50\n",
    "print(b*c)"
   ]
  },
  {
   "cell_type": "code",
   "execution_count": 35,
   "id": "7565c634-5f7d-4e9d-9126-eba6a9617d36",
   "metadata": {},
   "outputs": [
    {
     "name": "stdout",
     "output_type": "stream",
     "text": [
      "100\n"
     ]
    }
   ],
   "source": [
    "d = 48\n",
    "e = d + b\n",
    "print(e*2)"
   ]
  },
  {
   "cell_type": "code",
   "execution_count": 38,
   "id": "6d8eac31-c901-4ef1-8ce7-a37de7a0ba8a",
   "metadata": {},
   "outputs": [
    {
     "name": "stdout",
     "output_type": "stream",
     "text": [
      "1.3152866242038215\n"
     ]
    }
   ],
   "source": [
    "f = 3.14\n",
    "g = 4.13\n",
    "print(g/f)"
   ]
  },
  {
   "cell_type": "code",
   "execution_count": 50,
   "id": "47631452-9a1d-41b0-995e-4e8944dbf331",
   "metadata": {},
   "outputs": [
    {
     "name": "stdout",
     "output_type": "stream",
     "text": [
      "cat \n"
     ]
    }
   ],
   "source": [
    "h = 'c'\n",
    "i = 'at'\n",
    "j = h+i+' '\n",
    "print(j)"
   ]
  },
  {
   "cell_type": "code",
   "execution_count": 53,
   "id": "4280c697-3a72-4e90-8b25-468a9cc8e2df",
   "metadata": {},
   "outputs": [
    {
     "name": "stdout",
     "output_type": "stream",
     "text": [
      "My cat is at home.\n"
     ]
    }
   ],
   "source": [
    "k = 'My '\n",
    "l = 'is '\n",
    "m = 'home'\n",
    "print(k + j + l + i + ' ' + m + '.')"
   ]
  },
  {
   "cell_type": "code",
   "execution_count": 57,
   "id": "3e98101d-fcca-4762-a1fb-ed073482d639",
   "metadata": {},
   "outputs": [
    {
     "name": "stdout",
     "output_type": "stream",
     "text": [
      "home is where the cat is \n"
     ]
    }
   ],
   "source": [
    "n = 'where '\n",
    "o = 'the '\n",
    "print(m + ' ' + l + n + o + j + l)"
   ]
  },
  {
   "cell_type": "code",
   "execution_count": null,
   "id": "84a05378-2595-41be-9fd2-6a065342d6e3",
   "metadata": {},
   "outputs": [],
   "source": []
  },
  {
   "cell_type": "code",
   "execution_count": null,
   "id": "061570ac-a0ab-4372-947c-2dd887f9d1b2",
   "metadata": {},
   "outputs": [],
   "source": []
  },
  {
   "cell_type": "code",
   "execution_count": null,
   "id": "04dceb22-59c1-40d8-829a-0ba1b2dbb565",
   "metadata": {},
   "outputs": [],
   "source": []
  },
  {
   "cell_type": "code",
   "execution_count": null,
   "id": "630e9f7b-4315-4b70-8a30-a2b48b4fe043",
   "metadata": {},
   "outputs": [],
   "source": []
  },
  {
   "cell_type": "code",
   "execution_count": null,
   "id": "a9d97b11-fd53-42dd-af68-1b843b7b9524",
   "metadata": {},
   "outputs": [],
   "source": []
  }
 ],
 "metadata": {
  "kernelspec": {
   "display_name": "Python 3 (ipykernel)",
   "language": "python",
   "name": "python3"
  },
  "language_info": {
   "codemirror_mode": {
    "name": "ipython",
    "version": 3
   },
   "file_extension": ".py",
   "mimetype": "text/x-python",
   "name": "python",
   "nbconvert_exporter": "python",
   "pygments_lexer": "ipython3",
   "version": "3.11.7"
  }
 },
 "nbformat": 4,
 "nbformat_minor": 5
}
